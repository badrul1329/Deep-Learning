{
 "cells": [
  {
   "cell_type": "code",
   "execution_count": 1,
   "metadata": {},
   "outputs": [
    {
     "name": "stdout",
     "output_type": "stream",
     "text": [
      "Requirement already satisfied: tensorflow in d:\\anaconda3\\lib\\site-packages (2.11.0)\n",
      "Requirement already satisfied: torch in d:\\anaconda3\\lib\\site-packages (1.13.1)\n",
      "Requirement already satisfied: tensorflow-intel==2.11.0 in d:\\anaconda3\\lib\\site-packages (from tensorflow) (2.11.0)\n",
      "Requirement already satisfied: protobuf<3.20,>=3.9.2 in d:\\anaconda3\\lib\\site-packages (from tensorflow-intel==2.11.0->tensorflow) (3.19.6)\n",
      "Requirement already satisfied: grpcio<2.0,>=1.24.3 in d:\\anaconda3\\lib\\site-packages (from tensorflow-intel==2.11.0->tensorflow) (1.51.1)\n",
      "Requirement already satisfied: packaging in d:\\anaconda3\\lib\\site-packages (from tensorflow-intel==2.11.0->tensorflow) (20.1)\n",
      "Requirement already satisfied: wrapt>=1.11.0 in d:\\anaconda3\\lib\\site-packages (from tensorflow-intel==2.11.0->tensorflow) (1.11.2)\n",
      "Requirement already satisfied: flatbuffers>=2.0 in d:\\anaconda3\\lib\\site-packages (from tensorflow-intel==2.11.0->tensorflow) (23.1.4)\n",
      "Requirement already satisfied: h5py>=2.9.0 in d:\\anaconda3\\lib\\site-packages (from tensorflow-intel==2.11.0->tensorflow) (2.10.0)\n",
      "Requirement already satisfied: astunparse>=1.6.0 in d:\\anaconda3\\lib\\site-packages (from tensorflow-intel==2.11.0->tensorflow) (1.6.3)\n",
      "Requirement already satisfied: six>=1.12.0 in d:\\anaconda3\\lib\\site-packages (from tensorflow-intel==2.11.0->tensorflow) (1.14.0)\n",
      "Requirement already satisfied: typing-extensions>=3.6.6 in d:\\anaconda3\\lib\\site-packages (from tensorflow-intel==2.11.0->tensorflow) (4.4.0)\n",
      "Requirement already satisfied: opt-einsum>=2.3.2 in d:\\anaconda3\\lib\\site-packages (from tensorflow-intel==2.11.0->tensorflow) (3.3.0)\n",
      "Requirement already satisfied: tensorboard<2.12,>=2.11 in d:\\anaconda3\\lib\\site-packages (from tensorflow-intel==2.11.0->tensorflow) (2.11.0)\n",
      "Requirement already satisfied: gast<=0.4.0,>=0.2.1 in d:\\anaconda3\\lib\\site-packages (from tensorflow-intel==2.11.0->tensorflow) (0.4.0)\n",
      "Requirement already satisfied: absl-py>=1.0.0 in d:\\anaconda3\\lib\\site-packages (from tensorflow-intel==2.11.0->tensorflow) (1.3.0)\n",
      "Requirement already satisfied: tensorflow-io-gcs-filesystem>=0.23.1 in d:\\anaconda3\\lib\\site-packages (from tensorflow-intel==2.11.0->tensorflow) (0.29.0)\n",
      "Requirement already satisfied: keras<2.12,>=2.11.0 in d:\\anaconda3\\lib\\site-packages (from tensorflow-intel==2.11.0->tensorflow) (2.11.0)\n",
      "Requirement already satisfied: termcolor>=1.1.0 in d:\\anaconda3\\lib\\site-packages (from tensorflow-intel==2.11.0->tensorflow) (2.2.0)\n",
      "Requirement already satisfied: libclang>=13.0.0 in d:\\anaconda3\\lib\\site-packages (from tensorflow-intel==2.11.0->tensorflow) (15.0.6.1)\n",
      "Requirement already satisfied: numpy>=1.20 in d:\\anaconda3\\lib\\site-packages (from tensorflow-intel==2.11.0->tensorflow) (1.21.6)\n",
      "Requirement already satisfied: setuptools in d:\\anaconda3\\lib\\site-packages (from tensorflow-intel==2.11.0->tensorflow) (45.2.0.post20200210)\n",
      "Requirement already satisfied: tensorflow-estimator<2.12,>=2.11.0 in d:\\anaconda3\\lib\\site-packages (from tensorflow-intel==2.11.0->tensorflow) (2.11.0)\n",
      "Requirement already satisfied: google-pasta>=0.1.1 in d:\\anaconda3\\lib\\site-packages (from tensorflow-intel==2.11.0->tensorflow) (0.2.0)\n",
      "Requirement already satisfied: wheel<1.0,>=0.23.0 in d:\\anaconda3\\lib\\site-packages (from astunparse>=1.6.0->tensorflow-intel==2.11.0->tensorflow) (0.34.2)\n",
      "Requirement already satisfied: tensorboard-data-server<0.7.0,>=0.6.0 in d:\\anaconda3\\lib\\site-packages (from tensorboard<2.12,>=2.11->tensorflow-intel==2.11.0->tensorflow) (0.6.1)\n",
      "Requirement already satisfied: werkzeug>=1.0.1 in d:\\anaconda3\\lib\\site-packages (from tensorboard<2.12,>=2.11->tensorflow-intel==2.11.0->tensorflow) (2.2.2)\n",
      "Requirement already satisfied: google-auth<3,>=1.6.3 in d:\\anaconda3\\lib\\site-packages (from tensorboard<2.12,>=2.11->tensorflow-intel==2.11.0->tensorflow) (2.15.0)\n",
      "Requirement already satisfied: tensorboard-plugin-wit>=1.6.0 in d:\\anaconda3\\lib\\site-packages (from tensorboard<2.12,>=2.11->tensorflow-intel==2.11.0->tensorflow) (1.8.1)\n",
      "Requirement already satisfied: markdown>=2.6.8 in d:\\anaconda3\\lib\\site-packages (from tensorboard<2.12,>=2.11->tensorflow-intel==2.11.0->tensorflow) (3.4.1)\n",
      "Requirement already satisfied: google-auth-oauthlib<0.5,>=0.4.1 in d:\\anaconda3\\lib\\site-packages (from tensorboard<2.12,>=2.11->tensorflow-intel==2.11.0->tensorflow) (0.4.6)\n",
      "Requirement already satisfied: requests<3,>=2.21.0 in d:\\anaconda3\\lib\\site-packages (from tensorboard<2.12,>=2.11->tensorflow-intel==2.11.0->tensorflow) (2.22.0)\n",
      "Requirement already satisfied: pyparsing>=2.0.2 in d:\\anaconda3\\lib\\site-packages (from packaging->tensorflow-intel==2.11.0->tensorflow) (2.4.6)\n",
      "Requirement already satisfied: cachetools<6.0,>=2.0.0 in d:\\anaconda3\\lib\\site-packages (from google-auth<3,>=1.6.3->tensorboard<2.12,>=2.11->tensorflow-intel==2.11.0->tensorflow) (5.2.1)\n",
      "Requirement already satisfied: pyasn1-modules>=0.2.1 in d:\\anaconda3\\lib\\site-packages (from google-auth<3,>=1.6.3->tensorboard<2.12,>=2.11->tensorflow-intel==2.11.0->tensorflow) (0.2.8)\n",
      "Requirement already satisfied: rsa<5,>=3.1.4 in d:\\anaconda3\\lib\\site-packages (from google-auth<3,>=1.6.3->tensorboard<2.12,>=2.11->tensorflow-intel==2.11.0->tensorflow) (4.9)\n",
      "Requirement already satisfied: requests-oauthlib>=0.7.0 in d:\\anaconda3\\lib\\site-packages (from google-auth-oauthlib<0.5,>=0.4.1->tensorboard<2.12,>=2.11->tensorflow-intel==2.11.0->tensorflow) (1.3.1)\n",
      "Requirement already satisfied: importlib-metadata>=4.4 in d:\\anaconda3\\lib\\site-packages (from markdown>=2.6.8->tensorboard<2.12,>=2.11->tensorflow-intel==2.11.0->tensorflow) (6.0.0)\n",
      "Requirement already satisfied: idna<2.9,>=2.5 in d:\\anaconda3\\lib\\site-packages (from requests<3,>=2.21.0->tensorboard<2.12,>=2.11->tensorflow-intel==2.11.0->tensorflow) (2.8)\n",
      "Requirement already satisfied: urllib3!=1.25.0,!=1.25.1,<1.26,>=1.21.1 in d:\\anaconda3\\lib\\site-packages (from requests<3,>=2.21.0->tensorboard<2.12,>=2.11->tensorflow-intel==2.11.0->tensorflow) (1.25.8)\n",
      "Requirement already satisfied: chardet<3.1.0,>=3.0.2 in d:\\anaconda3\\lib\\site-packages (from requests<3,>=2.21.0->tensorboard<2.12,>=2.11->tensorflow-intel==2.11.0->tensorflow) (3.0.4)\n",
      "Requirement already satisfied: certifi>=2017.4.17 in d:\\anaconda3\\lib\\site-packages (from requests<3,>=2.21.0->tensorboard<2.12,>=2.11->tensorflow-intel==2.11.0->tensorflow) (2019.11.28)\n",
      "Requirement already satisfied: MarkupSafe>=2.1.1 in d:\\anaconda3\\lib\\site-packages (from werkzeug>=1.0.1->tensorboard<2.12,>=2.11->tensorflow-intel==2.11.0->tensorflow) (2.1.1)\n",
      "Requirement already satisfied: zipp>=0.5 in d:\\anaconda3\\lib\\site-packages (from importlib-metadata>=4.4->markdown>=2.6.8->tensorboard<2.12,>=2.11->tensorflow-intel==2.11.0->tensorflow) (2.2.0)\n",
      "Requirement already satisfied: pyasn1<0.5.0,>=0.4.6 in d:\\anaconda3\\lib\\site-packages (from pyasn1-modules>=0.2.1->google-auth<3,>=1.6.3->tensorboard<2.12,>=2.11->tensorflow-intel==2.11.0->tensorflow) (0.4.8)\n",
      "Requirement already satisfied: oauthlib>=3.0.0 in d:\\anaconda3\\lib\\site-packages (from requests-oauthlib>=0.7.0->google-auth-oauthlib<0.5,>=0.4.1->tensorboard<2.12,>=2.11->tensorflow-intel==2.11.0->tensorflow) (3.2.2)\n",
      "Note: you may need to restart the kernel to use updated packages.\n"
     ]
    },
    {
     "name": "stderr",
     "output_type": "stream",
     "text": [
      "Keyring is skipped due to an exception: 'keyring.backends'\n"
     ]
    }
   ],
   "source": [
    "pip install tensorflow torch"
   ]
  },
  {
   "cell_type": "code",
   "execution_count": 2,
   "metadata": {},
   "outputs": [],
   "source": [
    "import tensorflow as tf\n",
    "import numpy as np\n",
    "import torch, warnings, math\n",
    "import matplotlib.pyplot as plt\n",
    "\n",
    "warnings.filterwarnings(\"ignore\")\n",
    "%matplotlib inline"
   ]
  },
  {
   "cell_type": "code",
   "execution_count": 3,
   "metadata": {},
   "outputs": [
    {
     "data": {
      "text/plain": [
       "<tf.Tensor: shape=(100,), dtype=float64, numpy=\n",
       "array([-10.        ,  -9.7979798 ,  -9.5959596 ,  -9.39393939,\n",
       "        -9.19191919,  -8.98989899,  -8.78787879,  -8.58585859,\n",
       "        -8.38383838,  -8.18181818,  -7.97979798,  -7.77777778,\n",
       "        -7.57575758,  -7.37373737,  -7.17171717,  -6.96969697,\n",
       "        -6.76767677,  -6.56565657,  -6.36363636,  -6.16161616,\n",
       "        -5.95959596,  -5.75757576,  -5.55555556,  -5.35353535,\n",
       "        -5.15151515,  -4.94949495,  -4.74747475,  -4.54545455,\n",
       "        -4.34343434,  -4.14141414,  -3.93939394,  -3.73737374,\n",
       "        -3.53535354,  -3.33333333,  -3.13131313,  -2.92929293,\n",
       "        -2.72727273,  -2.52525253,  -2.32323232,  -2.12121212,\n",
       "        -1.91919192,  -1.71717172,  -1.51515152,  -1.31313131,\n",
       "        -1.11111111,  -0.90909091,  -0.70707071,  -0.50505051,\n",
       "        -0.3030303 ,  -0.1010101 ,   0.1010101 ,   0.3030303 ,\n",
       "         0.50505051,   0.70707071,   0.90909091,   1.11111111,\n",
       "         1.31313131,   1.51515152,   1.71717172,   1.91919192,\n",
       "         2.12121212,   2.32323232,   2.52525253,   2.72727273,\n",
       "         2.92929293,   3.13131313,   3.33333333,   3.53535354,\n",
       "         3.73737374,   3.93939394,   4.14141414,   4.34343434,\n",
       "         4.54545455,   4.74747475,   4.94949495,   5.15151515,\n",
       "         5.35353535,   5.55555556,   5.75757576,   5.95959596,\n",
       "         6.16161616,   6.36363636,   6.56565657,   6.76767677,\n",
       "         6.96969697,   7.17171717,   7.37373737,   7.57575758,\n",
       "         7.77777778,   7.97979798,   8.18181818,   8.38383838,\n",
       "         8.58585859,   8.78787879,   8.98989899,   9.19191919,\n",
       "         9.39393939,   9.5959596 ,   9.7979798 ,  10.        ])>"
      ]
     },
     "execution_count": 3,
     "metadata": {},
     "output_type": "execute_result"
    }
   ],
   "source": [
    "# x = np.arange(-10, 10, 100)\n",
    "x = tf.linspace(-10,10,100)\n",
    "x"
   ]
  },
  {
   "cell_type": "markdown",
   "metadata": {},
   "source": [
    "# Activation/Transfer Function"
   ]
  },
  {
   "cell_type": "markdown",
   "metadata": {},
   "source": [
    "## Sigmoid Function"
   ]
  },
  {
   "cell_type": "markdown",
   "metadata": {},
   "source": [
    "### built-in function"
   ]
  },
  {
   "cell_type": "code",
   "execution_count": 4,
   "metadata": {},
   "outputs": [
    {
     "data": {
      "text/plain": [
       "<tf.Tensor: shape=(100,), dtype=float64, numpy=\n",
       "array([4.53978687e-05, 5.55606489e-05, 6.79983174e-05, 8.32200197e-05,\n",
       "       1.01848815e-04, 1.24647146e-04, 1.52547986e-04, 1.86692945e-04,\n",
       "       2.28478855e-04, 2.79614739e-04, 3.42191434e-04, 4.18766684e-04,\n",
       "       5.12469082e-04, 6.27124987e-04, 7.67413430e-04, 9.39055039e-04,\n",
       "       1.14904229e-03, 1.40591988e-03, 1.72012560e-03, 2.10440443e-03,\n",
       "       2.57431039e-03, 3.14881358e-03, 3.85103236e-03, 4.70911357e-03,\n",
       "       5.75728612e-03, 7.03711536e-03, 8.59898661e-03, 1.05038445e-02,\n",
       "       1.28252101e-02, 1.56514861e-02, 1.90885420e-02, 2.32625358e-02,\n",
       "       2.83228820e-02, 3.44451957e-02, 4.18339400e-02, 5.07243606e-02,\n",
       "       6.13831074e-02, 7.41067363e-02, 8.92170603e-02, 1.07052146e-01,\n",
       "       1.27951705e-01, 1.52235823e-01, 1.80176593e-01, 2.11963334e-01,\n",
       "       2.47663801e-01, 2.87185901e-01, 3.30246430e-01, 3.76354517e-01,\n",
       "       4.24816868e-01, 4.74768924e-01, 5.25231076e-01, 5.75183132e-01,\n",
       "       6.23645483e-01, 6.69753570e-01, 7.12814099e-01, 7.52336199e-01,\n",
       "       7.88036666e-01, 8.19823407e-01, 8.47764177e-01, 8.72048295e-01,\n",
       "       8.92947854e-01, 9.10782940e-01, 9.25893264e-01, 9.38616893e-01,\n",
       "       9.49275639e-01, 9.58166060e-01, 9.65554804e-01, 9.71677118e-01,\n",
       "       9.76737464e-01, 9.80911458e-01, 9.84348514e-01, 9.87174790e-01,\n",
       "       9.89496155e-01, 9.91401013e-01, 9.92962885e-01, 9.94242714e-01,\n",
       "       9.95290886e-01, 9.96148968e-01, 9.96851186e-01, 9.97425690e-01,\n",
       "       9.97895596e-01, 9.98279874e-01, 9.98594080e-01, 9.98850958e-01,\n",
       "       9.99060945e-01, 9.99232587e-01, 9.99372875e-01, 9.99487531e-01,\n",
       "       9.99581233e-01, 9.99657809e-01, 9.99720385e-01, 9.99771521e-01,\n",
       "       9.99813307e-01, 9.99847452e-01, 9.99875353e-01, 9.99898151e-01,\n",
       "       9.99916780e-01, 9.99932002e-01, 9.99944439e-01, 9.99954602e-01])>"
      ]
     },
     "execution_count": 4,
     "metadata": {},
     "output_type": "execute_result"
    }
   ],
   "source": [
    "y_sigmoid = tf.keras.activations.sigmoid(x)\n",
    "y_sigmoid"
   ]
  },
  {
   "cell_type": "markdown",
   "metadata": {},
   "source": [
    "### Manual way"
   ]
  },
  {
   "cell_type": "code",
   "execution_count": 5,
   "metadata": {},
   "outputs": [],
   "source": [
    "def sigmoid(x):\n",
    "    return 1/(1 + np.exp(-x))"
   ]
  },
  {
   "cell_type": "code",
   "execution_count": 6,
   "metadata": {},
   "outputs": [
    {
     "data": {
      "text/plain": [
       "array([4.53978687e-05, 5.55606489e-05, 6.79983174e-05, 8.32200197e-05,\n",
       "       1.01848815e-04, 1.24647146e-04, 1.52547986e-04, 1.86692945e-04,\n",
       "       2.28478855e-04, 2.79614739e-04, 3.42191434e-04, 4.18766684e-04,\n",
       "       5.12469082e-04, 6.27124987e-04, 7.67413430e-04, 9.39055039e-04,\n",
       "       1.14904229e-03, 1.40591988e-03, 1.72012560e-03, 2.10440443e-03,\n",
       "       2.57431039e-03, 3.14881358e-03, 3.85103236e-03, 4.70911357e-03,\n",
       "       5.75728612e-03, 7.03711536e-03, 8.59898661e-03, 1.05038445e-02,\n",
       "       1.28252101e-02, 1.56514861e-02, 1.90885420e-02, 2.32625358e-02,\n",
       "       2.83228820e-02, 3.44451957e-02, 4.18339400e-02, 5.07243606e-02,\n",
       "       6.13831074e-02, 7.41067363e-02, 8.92170603e-02, 1.07052146e-01,\n",
       "       1.27951705e-01, 1.52235823e-01, 1.80176593e-01, 2.11963334e-01,\n",
       "       2.47663801e-01, 2.87185901e-01, 3.30246430e-01, 3.76354517e-01,\n",
       "       4.24816868e-01, 4.74768924e-01, 5.25231076e-01, 5.75183132e-01,\n",
       "       6.23645483e-01, 6.69753570e-01, 7.12814099e-01, 7.52336199e-01,\n",
       "       7.88036666e-01, 8.19823407e-01, 8.47764177e-01, 8.72048295e-01,\n",
       "       8.92947854e-01, 9.10782940e-01, 9.25893264e-01, 9.38616893e-01,\n",
       "       9.49275639e-01, 9.58166060e-01, 9.65554804e-01, 9.71677118e-01,\n",
       "       9.76737464e-01, 9.80911458e-01, 9.84348514e-01, 9.87174790e-01,\n",
       "       9.89496155e-01, 9.91401013e-01, 9.92962885e-01, 9.94242714e-01,\n",
       "       9.95290886e-01, 9.96148968e-01, 9.96851186e-01, 9.97425690e-01,\n",
       "       9.97895596e-01, 9.98279874e-01, 9.98594080e-01, 9.98850958e-01,\n",
       "       9.99060945e-01, 9.99232587e-01, 9.99372875e-01, 9.99487531e-01,\n",
       "       9.99581233e-01, 9.99657809e-01, 9.99720385e-01, 9.99771521e-01,\n",
       "       9.99813307e-01, 9.99847452e-01, 9.99875353e-01, 9.99898151e-01,\n",
       "       9.99916780e-01, 9.99932002e-01, 9.99944439e-01, 9.99954602e-01])"
      ]
     },
     "execution_count": 6,
     "metadata": {},
     "output_type": "execute_result"
    }
   ],
   "source": [
    "y_sigmoid = sigmoid(x)\n",
    "y_sigmoid"
   ]
  },
  {
   "cell_type": "code",
   "execution_count": 7,
   "metadata": {},
   "outputs": [
    {
     "data": {
      "text/plain": [
       "4.5397868702434395e-05"
      ]
     },
     "execution_count": 7,
     "metadata": {},
     "output_type": "execute_result"
    }
   ],
   "source": [
    "# y_sigmoid.min()\n",
    "min = np.min(y_sigmoid)\n",
    "min"
   ]
  },
  {
   "cell_type": "code",
   "execution_count": 8,
   "metadata": {},
   "outputs": [
    {
     "data": {
      "text/plain": [
       "0.0"
      ]
     },
     "execution_count": 8,
     "metadata": {},
     "output_type": "execute_result"
    }
   ],
   "source": [
    "np.floor(min)"
   ]
  },
  {
   "cell_type": "code",
   "execution_count": 9,
   "metadata": {},
   "outputs": [],
   "source": [
    "# y_sigmoid.max()\n",
    "max = np.max(y_sigmoid)"
   ]
  },
  {
   "cell_type": "code",
   "execution_count": 10,
   "metadata": {},
   "outputs": [
    {
     "data": {
      "text/plain": [
       "1.0"
      ]
     },
     "execution_count": 10,
     "metadata": {},
     "output_type": "execute_result"
    }
   ],
   "source": [
    "np.ceil(max)"
   ]
  },
  {
   "cell_type": "markdown",
   "metadata": {},
   "source": [
    "### Derivatives of sigmoid"
   ]
  },
  {
   "cell_type": "markdown",
   "metadata": {},
   "source": [
    "<strong>Why derivative/differentiation is used ?</strong>\n",
    "<br/>When updating the curve, to know in which direction and how much to change or update the curve depending upon the slope.That is why we use differentiation in almost every part of Machine Learning and Deep Learning."
   ]
  },
  {
   "cell_type": "code",
   "execution_count": 11,
   "metadata": {},
   "outputs": [],
   "source": [
    "def derivative_sigmoid(x):\n",
    "    return sigmoid(x) * (1-sigmoid(x))"
   ]
  },
  {
   "cell_type": "code",
   "execution_count": 12,
   "metadata": {},
   "outputs": [
    {
     "data": {
      "text/plain": [
       "array([4.53958077e-05, 5.55575620e-05, 6.79936937e-05, 8.32130942e-05,\n",
       "       1.01838442e-04, 1.24631609e-04, 1.52524715e-04, 1.86658091e-04,\n",
       "       2.28426653e-04, 2.79536554e-04, 3.42074339e-04, 4.18591319e-04,\n",
       "       5.12206458e-04, 6.26731702e-04, 7.66824507e-04, 9.38173215e-04,\n",
       "       1.14772200e-03, 1.40394326e-03, 1.71716676e-03, 2.09997591e-03,\n",
       "       2.56768332e-03, 3.13889855e-03, 3.83620191e-03, 4.68693782e-03,\n",
       "       5.72413978e-03, 6.98759437e-03, 8.52504404e-03, 1.03935138e-02,\n",
       "       1.26607241e-02, 1.54065171e-02, 1.87241696e-02, 2.27213903e-02,\n",
       "       2.75206964e-02, 3.32587242e-02, 4.00838615e-02, 4.81513998e-02,\n",
       "       5.76152215e-02, 6.86149280e-02, 8.12573764e-02, 9.55919842e-02,\n",
       "       1.11580066e-01, 1.29060077e-01, 1.47712989e-01, 1.67034879e-01,\n",
       "       1.86326443e-01, 2.04710159e-01, 2.21183725e-01, 2.34711795e-01,\n",
       "       2.44347497e-01, 2.49363393e-01, 2.49363393e-01, 2.44347497e-01,\n",
       "       2.34711795e-01, 2.21183725e-01, 2.04710159e-01, 1.86326443e-01,\n",
       "       1.67034879e-01, 1.47712989e-01, 1.29060077e-01, 1.11580066e-01,\n",
       "       9.55919842e-02, 8.12573764e-02, 6.86149280e-02, 5.76152215e-02,\n",
       "       4.81513998e-02, 4.00838615e-02, 3.32587242e-02, 2.75206964e-02,\n",
       "       2.27213903e-02, 1.87241696e-02, 1.54065171e-02, 1.26607241e-02,\n",
       "       1.03935138e-02, 8.52504404e-03, 6.98759437e-03, 5.72413978e-03,\n",
       "       4.68693782e-03, 3.83620191e-03, 3.13889855e-03, 2.56768332e-03,\n",
       "       2.09997591e-03, 1.71716676e-03, 1.40394326e-03, 1.14772200e-03,\n",
       "       9.38173215e-04, 7.66824507e-04, 6.26731702e-04, 5.12206458e-04,\n",
       "       4.18591319e-04, 3.42074339e-04, 2.79536554e-04, 2.28426653e-04,\n",
       "       1.86658091e-04, 1.52524715e-04, 1.24631609e-04, 1.01838442e-04,\n",
       "       8.32130942e-05, 6.79936937e-05, 5.55575620e-05, 4.53958077e-05])"
      ]
     },
     "execution_count": 12,
     "metadata": {},
     "output_type": "execute_result"
    }
   ],
   "source": [
    "y_der_sigmoid = derivative_sigmoid(x)\n",
    "y_der_sigmoid"
   ]
  },
  {
   "cell_type": "code",
   "execution_count": 13,
   "metadata": {},
   "outputs": [
    {
     "data": {
      "image/png": "[encoded data removed]",
      "text/plain": [
       "<Figure size 432x288 with 1 Axes>"
      ]
     },
     "metadata": {
      "needs_background": "dark"
     },
     "output_type": "display_data"
    }
   ],
   "source": [
    "plt.figure(figsize=(6,4))\n",
    "plt.plot(x,y_sigmoid,x,y_der_sigmoid)\n",
    "plt.legend([\"Sigmoid\",\"Derivative Sigmoid\"])\n",
    "plt.title(\"Sigmoid Function\")\n",
    "plt.xlabel(\"Continuous Data\")\n",
    "plt.ylabel(\"Data Range\")\n",
    "plt.grid(True)\n",
    "plt.tight_layout()\n",
    "plt.show()"
   ]
  },
  {
   "cell_type": "markdown",
   "metadata": {},
   "source": [
    "## TanH"
   ]
  },
  {
   "cell_type": "markdown",
   "metadata": {},
   "source": [
    "### Build-in method"
   ]
  },
  {
   "cell_type": "code",
   "execution_count": 14,
   "metadata": {},
   "outputs": [
    {
     "data": {
      "text/plain": [
       "<tf.Tensor: shape=(100,), dtype=float64, numpy=\n",
       "array([-1.        , -0.99999999, -0.99999999, -0.99999999, -0.99999998,\n",
       "       -0.99999997, -0.99999995, -0.99999993, -0.9999999 , -0.99999984,\n",
       "       -0.99999977, -0.99999965, -0.99999947, -0.99999921, -0.99999882,\n",
       "       -0.99999823, -0.99999735, -0.99999604, -0.99999406, -0.99999111,\n",
       "       -0.99998668, -0.99998004, -0.99997011, -0.99995523, -0.99993294,\n",
       "       -0.99989955, -0.99984955, -0.99977465, -0.99966248, -0.99949449,\n",
       "       -0.9992429 , -0.99886619, -0.99830218, -0.99745797, -0.99619479,\n",
       "       -0.9943057 , -0.99148279, -0.98726936, -0.98099146, -0.97166188,\n",
       "       -0.95785067, -0.93752157, -0.90784899, -0.86506558, -0.8044548 ,\n",
       "       -0.72069563, -0.60883666, -0.46607983, -0.2940833 , -0.10066796,\n",
       "        0.10066796,  0.2940833 ,  0.46607983,  0.60883666,  0.72069563,\n",
       "        0.8044548 ,  0.86506558,  0.90784899,  0.93752157,  0.95785067,\n",
       "        0.97166188,  0.98099146,  0.98726936,  0.99148279,  0.9943057 ,\n",
       "        0.99619479,  0.99745797,  0.99830218,  0.99886619,  0.9992429 ,\n",
       "        0.99949449,  0.99966248,  0.99977465,  0.99984955,  0.99989955,\n",
       "        0.99993294,  0.99995523,  0.99997011,  0.99998004,  0.99998668,\n",
       "        0.99999111,  0.99999406,  0.99999604,  0.99999735,  0.99999823,\n",
       "        0.99999882,  0.99999921,  0.99999947,  0.99999965,  0.99999977,\n",
       "        0.99999984,  0.9999999 ,  0.99999993,  0.99999995,  0.99999997,\n",
       "        0.99999998,  0.99999999,  0.99999999,  0.99999999,  1.        ])>"
      ]
     },
     "execution_count": 14,
     "metadata": {},
     "output_type": "execute_result"
    }
   ],
   "source": [
    "y_tanh = tf.keras.activations.tanh(x)\n",
    "y_tanh"
   ]
  },
  {
   "cell_type": "markdown",
   "metadata": {},
   "source": [
    "### Manual Way"
   ]
  },
  {
   "cell_type": "code",
   "execution_count": 15,
   "metadata": {},
   "outputs": [],
   "source": [
    "def tanh(x):\n",
    "    return (np.exp(x)-np.exp(-x))/(np.exp(x)+np.exp(-x))"
   ]
  },
  {
   "cell_type": "code",
   "execution_count": 16,
   "metadata": {},
   "outputs": [
    {
     "data": {
      "text/plain": [
       "array([-1.        , -0.99999999, -0.99999999, -0.99999999, -0.99999998,\n",
       "       -0.99999997, -0.99999995, -0.99999993, -0.9999999 , -0.99999984,\n",
       "       -0.99999977, -0.99999965, -0.99999947, -0.99999921, -0.99999882,\n",
       "       -0.99999823, -0.99999735, -0.99999604, -0.99999406, -0.99999111,\n",
       "       -0.99998668, -0.99998004, -0.99997011, -0.99995523, -0.99993294,\n",
       "       -0.99989955, -0.99984955, -0.99977465, -0.99966248, -0.99949449,\n",
       "       -0.9992429 , -0.99886619, -0.99830218, -0.99745797, -0.99619479,\n",
       "       -0.9943057 , -0.99148279, -0.98726936, -0.98099146, -0.97166188,\n",
       "       -0.95785067, -0.93752157, -0.90784899, -0.86506558, -0.8044548 ,\n",
       "       -0.72069563, -0.60883666, -0.46607983, -0.2940833 , -0.10066796,\n",
       "        0.10066796,  0.2940833 ,  0.46607983,  0.60883666,  0.72069563,\n",
       "        0.8044548 ,  0.86506558,  0.90784899,  0.93752157,  0.95785067,\n",
       "        0.97166188,  0.98099146,  0.98726936,  0.99148279,  0.9943057 ,\n",
       "        0.99619479,  0.99745797,  0.99830218,  0.99886619,  0.9992429 ,\n",
       "        0.99949449,  0.99966248,  0.99977465,  0.99984955,  0.99989955,\n",
       "        0.99993294,  0.99995523,  0.99997011,  0.99998004,  0.99998668,\n",
       "        0.99999111,  0.99999406,  0.99999604,  0.99999735,  0.99999823,\n",
       "        0.99999882,  0.99999921,  0.99999947,  0.99999965,  0.99999977,\n",
       "        0.99999984,  0.9999999 ,  0.99999993,  0.99999995,  0.99999997,\n",
       "        0.99999998,  0.99999999,  0.99999999,  0.99999999,  1.        ])"
      ]
     },
     "execution_count": 16,
     "metadata": {},
     "output_type": "execute_result"
    }
   ],
   "source": [
    "y_tanh = tanh(x)\n",
    "y_tanh"
   ]
  },
  {
   "cell_type": "code",
   "execution_count": 17,
   "metadata": {},
   "outputs": [
    {
     "data": {
      "text/plain": [
       "0.9999999958776926"
      ]
     },
     "execution_count": 17,
     "metadata": {},
     "output_type": "execute_result"
    }
   ],
   "source": [
    "max = np.max(y_tanh)\n",
    "max"
   ]
  },
  {
   "cell_type": "code",
   "execution_count": 18,
   "metadata": {},
   "outputs": [
    {
     "data": {
      "text/plain": [
       "1.0"
      ]
     },
     "execution_count": 18,
     "metadata": {},
     "output_type": "execute_result"
    }
   ],
   "source": [
    "np.ceil(max)"
   ]
  },
  {
   "cell_type": "code",
   "execution_count": 19,
   "metadata": {},
   "outputs": [
    {
     "data": {
      "text/plain": [
       "-0.9999999958776926"
      ]
     },
     "execution_count": 19,
     "metadata": {},
     "output_type": "execute_result"
    }
   ],
   "source": [
    "min = np.min(y_tanh)\n",
    "min"
   ]
  },
  {
   "cell_type": "code",
   "execution_count": 20,
   "metadata": {},
   "outputs": [
    {
     "data": {
      "text/plain": [
       "-1.0"
      ]
     },
     "execution_count": 20,
     "metadata": {},
     "output_type": "execute_result"
    }
   ],
   "source": [
    "np.floor(min)"
   ]
  },
  {
   "cell_type": "markdown",
   "metadata": {},
   "source": [
    "### Derivative of Tanh"
   ]
  },
  {
   "cell_type": "code",
   "execution_count": 21,
   "metadata": {},
   "outputs": [],
   "source": [
    "def derivative_tanh(x):\n",
    "    return 1-(tanh(x)**2)"
   ]
  },
  {
   "cell_type": "code",
   "execution_count": 22,
   "metadata": {},
   "outputs": [
    {
     "data": {
      "text/plain": [
       "array([8.24461477e-09, 1.23493147e-08, 1.84975998e-08, 2.77068974e-08,\n",
       "       4.15011774e-08, 6.21631376e-08, 9.31119539e-08, 1.39469084e-07,\n",
       "       2.08905778e-07, 3.12912525e-07, 4.68700515e-07, 7.02049765e-07,\n",
       "       1.05157521e-06, 1.57511673e-06, 2.35931045e-06, 3.53392522e-06,\n",
       "       5.29333635e-06, 7.92868998e-06, 1.18760795e-05, 1.77887049e-05,\n",
       "       2.66449510e-05, 3.99102606e-05, 5.97795672e-05, 8.95403570e-05,\n",
       "       1.34116330e-04, 2.00881377e-04, 3.00878030e-04, 4.50640755e-04,\n",
       "       6.74923051e-04, 1.01077340e-03, 1.51362059e-03, 2.26634416e-03,\n",
       "       3.39276094e-03, 5.07760312e-03, 7.59594491e-03, 1.13561717e-02,\n",
       "       1.69618853e-02, 2.52992122e-02, 3.76557457e-02, 5.58731868e-02,\n",
       "       8.25220882e-02, 1.21053315e-01, 1.75810216e-01, 2.51661539e-01,\n",
       "       3.52852474e-01, 4.80597804e-01, 6.29317917e-01, 7.82769589e-01,\n",
       "       9.13515012e-01, 9.89865962e-01, 9.89865962e-01, 9.13515012e-01,\n",
       "       7.82769589e-01, 6.29317917e-01, 4.80597804e-01, 3.52852474e-01,\n",
       "       2.51661539e-01, 1.75810216e-01, 1.21053315e-01, 8.25220882e-02,\n",
       "       5.58731868e-02, 3.76557457e-02, 2.52992122e-02, 1.69618853e-02,\n",
       "       1.13561717e-02, 7.59594491e-03, 5.07760312e-03, 3.39276094e-03,\n",
       "       2.26634416e-03, 1.51362059e-03, 1.01077340e-03, 6.74923051e-04,\n",
       "       4.50640755e-04, 3.00878030e-04, 2.00881377e-04, 1.34116330e-04,\n",
       "       8.95403570e-05, 5.97795672e-05, 3.99102606e-05, 2.66449510e-05,\n",
       "       1.77887049e-05, 1.18760795e-05, 7.92868998e-06, 5.29333635e-06,\n",
       "       3.53392522e-06, 2.35931045e-06, 1.57511673e-06, 1.05157521e-06,\n",
       "       7.02049765e-07, 4.68700515e-07, 3.12912525e-07, 2.08905778e-07,\n",
       "       1.39469084e-07, 9.31119539e-08, 6.21631376e-08, 4.15011774e-08,\n",
       "       2.77068974e-08, 1.84975998e-08, 1.23493147e-08, 8.24461477e-09])"
      ]
     },
     "execution_count": 22,
     "metadata": {},
     "output_type": "execute_result"
    }
   ],
   "source": [
    "y_der_tanh = derivative_tanh(x)\n",
    "y_der_tanh"
   ]
  },
  {
   "cell_type": "code",
   "execution_count": 23,
   "metadata": {},
   "outputs": [
    {
     "data": {
      "image/png": "[encoded data removed]",
      "text/plain": [
       "<Figure size 432x288 with 1 Axes>"
      ]
     },
     "metadata": {
      "needs_background": "dark"
     },
     "output_type": "display_data"
    }
   ],
   "source": [
    "plt.figure(figsize=(6,4))\n",
    "plt.plot(x,y_tanh,x,y_der_tanh)\n",
    "plt.legend([\"TanH\",\"Derivative TanH\"])\n",
    "plt.title(\"TanH Function\")\n",
    "plt.xlabel(\"Continuous Data\")\n",
    "plt.ylabel(\"Data Range\")\n",
    "plt.grid(True)\n",
    "plt.tight_layout()\n",
    "plt.show()"
   ]
  },
  {
   "cell_type": "markdown",
   "metadata": {},
   "source": [
    "Derivative of tanH acts like sigmoid function when threshold value is present <br/>\n",
    "logistic function = sigmoid"
   ]
  },
  {
   "cell_type": "markdown",
   "metadata": {},
   "source": [
    "## ReLU"
   ]
  },
  {
   "cell_type": "code",
   "execution_count": 24,
   "metadata": {},
   "outputs": [],
   "source": [
    "def relu(x):\n",
    "#     return max(0.0,x)\n",
    "    if x>0:\n",
    "      return np.rint(x).astype(int)\n",
    "    else: \n",
    "      return 0"
   ]
  },
  {
   "cell_type": "code",
   "execution_count": 25,
   "metadata": {},
   "outputs": [
    {
     "data": {
      "text/plain": [
       "<tf.Tensor: shape=(100,), dtype=float64, numpy=\n",
       "array([-10.        ,  -9.7979798 ,  -9.5959596 ,  -9.39393939,\n",
       "        -9.19191919,  -8.98989899,  -8.78787879,  -8.58585859,\n",
       "        -8.38383838,  -8.18181818,  -7.97979798,  -7.77777778,\n",
       "        -7.57575758,  -7.37373737,  -7.17171717,  -6.96969697,\n",
       "        -6.76767677,  -6.56565657,  -6.36363636,  -6.16161616,\n",
       "        -5.95959596,  -5.75757576,  -5.55555556,  -5.35353535,\n",
       "        -5.15151515,  -4.94949495,  -4.74747475,  -4.54545455,\n",
       "        -4.34343434,  -4.14141414,  -3.93939394,  -3.73737374,\n",
       "        -3.53535354,  -3.33333333,  -3.13131313,  -2.92929293,\n",
       "        -2.72727273,  -2.52525253,  -2.32323232,  -2.12121212,\n",
       "        -1.91919192,  -1.71717172,  -1.51515152,  -1.31313131,\n",
       "        -1.11111111,  -0.90909091,  -0.70707071,  -0.50505051,\n",
       "        -0.3030303 ,  -0.1010101 ,   0.1010101 ,   0.3030303 ,\n",
       "         0.50505051,   0.70707071,   0.90909091,   1.11111111,\n",
       "         1.31313131,   1.51515152,   1.71717172,   1.91919192,\n",
       "         2.12121212,   2.32323232,   2.52525253,   2.72727273,\n",
       "         2.92929293,   3.13131313,   3.33333333,   3.53535354,\n",
       "         3.73737374,   3.93939394,   4.14141414,   4.34343434,\n",
       "         4.54545455,   4.74747475,   4.94949495,   5.15151515,\n",
       "         5.35353535,   5.55555556,   5.75757576,   5.95959596,\n",
       "         6.16161616,   6.36363636,   6.56565657,   6.76767677,\n",
       "         6.96969697,   7.17171717,   7.37373737,   7.57575758,\n",
       "         7.77777778,   7.97979798,   8.18181818,   8.38383838,\n",
       "         8.58585859,   8.78787879,   8.98989899,   9.19191919,\n",
       "         9.39393939,   9.5959596 ,   9.7979798 ,  10.        ])>"
      ]
     },
     "execution_count": 25,
     "metadata": {},
     "output_type": "execute_result"
    }
   ],
   "source": [
    "x"
   ]
  },
  {
   "cell_type": "code",
   "execution_count": 26,
   "metadata": {},
   "outputs": [
    {
     "data": {
      "text/plain": [
       "[0,\n",
       " 0,\n",
       " 0,\n",
       " 0,\n",
       " 0,\n",
       " 0,\n",
       " 0,\n",
       " 0,\n",
       " 0,\n",
       " 0,\n",
       " 0,\n",
       " 0,\n",
       " 0,\n",
       " 0,\n",
       " 0,\n",
       " 0,\n",
       " 0,\n",
       " 0,\n",
       " 0,\n",
       " 0,\n",
       " 0,\n",
       " 0,\n",
       " 0,\n",
       " 0,\n",
       " 0,\n",
       " 0,\n",
       " 0,\n",
       " 0,\n",
       " 0,\n",
       " 0,\n",
       " 0,\n",
       " 0,\n",
       " 0,\n",
       " 0,\n",
       " 0,\n",
       " 0,\n",
       " 0,\n",
       " 0,\n",
       " 0,\n",
       " 0,\n",
       " 0,\n",
       " 0,\n",
       " 0,\n",
       " 0,\n",
       " 0,\n",
       " 0,\n",
       " 0,\n",
       " 0,\n",
       " 0,\n",
       " 0,\n",
       " 0,\n",
       " 0,\n",
       " 1,\n",
       " 1,\n",
       " 1,\n",
       " 1,\n",
       " 1,\n",
       " 2,\n",
       " 2,\n",
       " 2,\n",
       " 2,\n",
       " 2,\n",
       " 3,\n",
       " 3,\n",
       " 3,\n",
       " 3,\n",
       " 3,\n",
       " 4,\n",
       " 4,\n",
       " 4,\n",
       " 4,\n",
       " 4,\n",
       " 5,\n",
       " 5,\n",
       " 5,\n",
       " 5,\n",
       " 5,\n",
       " 6,\n",
       " 6,\n",
       " 6,\n",
       " 6,\n",
       " 6,\n",
       " 7,\n",
       " 7,\n",
       " 7,\n",
       " 7,\n",
       " 7,\n",
       " 8,\n",
       " 8,\n",
       " 8,\n",
       " 8,\n",
       " 8,\n",
       " 9,\n",
       " 9,\n",
       " 9,\n",
       " 9,\n",
       " 9,\n",
       " 10,\n",
       " 10,\n",
       " 10]"
      ]
     },
     "execution_count": 26,
     "metadata": {},
     "output_type": "execute_result"
    }
   ],
   "source": [
    "y_relu = [relu(i) for i in x]\n",
    "y_relu"
   ]
  },
  {
   "cell_type": "code",
   "execution_count": 27,
   "metadata": {},
   "outputs": [
    {
     "data": {
      "text/plain": [
       "[<matplotlib.lines.Line2D at 0x252d13838c8>]"
      ]
     },
     "execution_count": 27,
     "metadata": {},
     "output_type": "execute_result"
    },
    {
     "data": {
      "image/png": "[encoded data removed]",
      "text/plain": [
       "<Figure size 432x288 with 1 Axes>"
      ]
     },
     "metadata": {
      "needs_background": "dark"
     },
     "output_type": "display_data"
    }
   ],
   "source": [
    "plt.plot(x,y_relu)"
   ]
  },
  {
   "cell_type": "markdown",
   "metadata": {},
   "source": [
    "## SoftMax function"
   ]
  },
  {
   "cell_type": "markdown",
   "metadata": {},
   "source": [
    "Maps output to a [0,1] range but also maps each output in such a way that the total sum is 1. The output of Softmax is therefore a probability distribution. used in Multiclass classification problem."
   ]
  },
  {
   "cell_type": "markdown",
   "metadata": {},
   "source": [
    "number of nodes in the output layer = the number of classes N."
   ]
  },
  {
   "cell_type": "code",
   "execution_count": 49,
   "metadata": {},
   "outputs": [
    {
     "data": {
      "text/plain": [
       "<tf.Tensor: shape=(100,), dtype=float64, numpy=\n",
       "array([-10.        ,  -9.7979798 ,  -9.5959596 ,  -9.39393939,\n",
       "        -9.19191919,  -8.98989899,  -8.78787879,  -8.58585859,\n",
       "        -8.38383838,  -8.18181818,  -7.97979798,  -7.77777778,\n",
       "        -7.57575758,  -7.37373737,  -7.17171717,  -6.96969697,\n",
       "        -6.76767677,  -6.56565657,  -6.36363636,  -6.16161616,\n",
       "        -5.95959596,  -5.75757576,  -5.55555556,  -5.35353535,\n",
       "        -5.15151515,  -4.94949495,  -4.74747475,  -4.54545455,\n",
       "        -4.34343434,  -4.14141414,  -3.93939394,  -3.73737374,\n",
       "        -3.53535354,  -3.33333333,  -3.13131313,  -2.92929293,\n",
       "        -2.72727273,  -2.52525253,  -2.32323232,  -2.12121212,\n",
       "        -1.91919192,  -1.71717172,  -1.51515152,  -1.31313131,\n",
       "        -1.11111111,  -0.90909091,  -0.70707071,  -0.50505051,\n",
       "        -0.3030303 ,  -0.1010101 ,   0.1010101 ,   0.3030303 ,\n",
       "         0.50505051,   0.70707071,   0.90909091,   1.11111111,\n",
       "         1.31313131,   1.51515152,   1.71717172,   1.91919192,\n",
       "         2.12121212,   2.32323232,   2.52525253,   2.72727273,\n",
       "         2.92929293,   3.13131313,   3.33333333,   3.53535354,\n",
       "         3.73737374,   3.93939394,   4.14141414,   4.34343434,\n",
       "         4.54545455,   4.74747475,   4.94949495,   5.15151515,\n",
       "         5.35353535,   5.55555556,   5.75757576,   5.95959596,\n",
       "         6.16161616,   6.36363636,   6.56565657,   6.76767677,\n",
       "         6.96969697,   7.17171717,   7.37373737,   7.57575758,\n",
       "         7.77777778,   7.97979798,   8.18181818,   8.38383838,\n",
       "         8.58585859,   8.78787879,   8.98989899,   9.19191919,\n",
       "         9.39393939,   9.5959596 ,   9.7979798 ,  10.        ])>"
      ]
     },
     "execution_count": 49,
     "metadata": {},
     "output_type": "execute_result"
    }
   ],
   "source": [
    "x"
   ]
  },
  {
   "cell_type": "code",
   "execution_count": 28,
   "metadata": {},
   "outputs": [
    {
     "data": {
      "text/plain": [
       "array([4.53988992e-05, 5.55621925e-05, 6.80006294e-05, 8.32234827e-05,\n",
       "       1.01854002e-04, 1.24654915e-04, 1.52559623e-04, 1.86710374e-04,\n",
       "       2.28504961e-04, 2.79653838e-04, 3.42249995e-04, 4.18854392e-04,\n",
       "       5.12600439e-04, 6.27321712e-04, 7.67708042e-04, 9.39496227e-04,\n",
       "       1.14970295e-03, 1.40690911e-03, 1.72160671e-03, 2.10662180e-03,\n",
       "       2.57762963e-03, 3.15378152e-03, 3.85846667e-03, 4.72023638e-03,\n",
       "       5.77392318e-03, 7.06199264e-03, 8.63617122e-03, 1.05593993e-02,\n",
       "       1.29081631e-02, 1.57752639e-02, 1.92730804e-02, 2.35373794e-02,\n",
       "       2.87317129e-02, 3.50524161e-02, 4.27341757e-02, 5.20560700e-02,\n",
       "       6.33478781e-02, 7.69963170e-02, 9.34506760e-02, 1.13227094e-01,\n",
       "       1.36910472e-01, 1.65152775e-01, 1.98666320e-01, 2.38210660e-01,\n",
       "       2.84571982e-01, 3.38534624e-01, 4.00845440e-01, 4.72173209e-01,\n",
       "       5.53066799e-01, 6.43916968e-01, 7.44927069e-01, 8.56097102e-01,\n",
       "       9.77223714e-01, 1.10791615e+00, 1.24762553e+00, 1.39568309e+00,\n",
       "       1.55134197e+00, 1.71381783e+00, 1.88232449e+00, 2.05610239e+00,\n",
       "       2.23443922e+00, 2.41668300e+00, 2.60224884e+00, 2.79062061e+00,\n",
       "       2.98134900e+00, 3.17404731e+00, 3.36838575e+00, 3.56408525e+00,\n",
       "       3.76091112e+00, 3.95866702e+00, 4.15718941e+00, 4.35634251e+00,\n",
       "       4.55601394e+00, 4.75611092e+00, 4.95655694e+00, 5.15728907e+00,\n",
       "       5.35825559e+00, 5.55941402e+00, 5.76072954e+00, 5.96217359e+00,\n",
       "       6.16372278e+00, 6.36535797e+00, 6.56706347e+00, 6.76882647e+00,\n",
       "       6.97063647e+00, 7.17248488e+00, 7.37436470e+00, 7.57627018e+00,\n",
       "       7.77819663e+00, 7.98014023e+00, 8.18209784e+00, 8.38406689e+00,\n",
       "       8.58604530e+00, 8.78803135e+00, 8.99002364e+00, 9.19202105e+00,\n",
       "       9.39402262e+00, 9.59602760e+00, 9.79803536e+00, 1.00000454e+01])"
      ]
     },
     "execution_count": 28,
     "metadata": {},
     "output_type": "execute_result"
    }
   ],
   "source": [
    "y_softmax = np.log(1 + np.exp(x))\n",
    "y_softmax"
   ]
  },
  {
   "cell_type": "code",
   "execution_count": 32,
   "metadata": {},
   "outputs": [
    {
     "data": {
      "text/plain": [
       "10.000045398899218"
      ]
     },
     "execution_count": 32,
     "metadata": {},
     "output_type": "execute_result"
    }
   ],
   "source": [
    "# y_softmax.max()\n",
    "np.max(y_softmax)"
   ]
  },
  {
   "cell_type": "code",
   "execution_count": 36,
   "metadata": {},
   "outputs": [],
   "source": [
    "def softmax(x):\n",
    "    exp_max_x = np.exp( x - np.max(x) )\n",
    "    return exp_max_x / exp_max_x.sum()"
   ]
  },
  {
   "cell_type": "code",
   "execution_count": 38,
   "metadata": {},
   "outputs": [
    {
     "data": {
      "text/plain": [
       "array([3.77029476e-10, 4.61436094e-10, 5.64739054e-10, 6.91168729e-10,\n",
       "       8.45902561e-10, 1.03527708e-09, 1.26704739e-09, 1.55070475e-09,\n",
       "       1.89786526e-09, 2.32274554e-09, 2.84274493e-09, 3.47915801e-09,\n",
       "       4.25804662e-09, 5.21130715e-09, 6.37797672e-09, 7.80583179e-09,\n",
       "       9.55334469e-09, 1.16920781e-08, 1.43096155e-08, 1.75131483e-08,\n",
       "       2.14338646e-08, 2.62323225e-08, 3.21050242e-08, 3.92924637e-08,\n",
       "       4.80889749e-08, 5.88547851e-08, 7.20307667e-08, 8.81564912e-08,\n",
       "       1.07892326e-07, 1.32046476e-07, 1.61608081e-07, 1.97787724e-07,\n",
       "       2.42067002e-07, 2.96259203e-07, 3.62583560e-07, 4.43756133e-07,\n",
       "       5.43101031e-07, 6.64686542e-07, 8.13491735e-07, 9.95610352e-07,\n",
       "       1.21850036e-06, 1.49128937e-06, 1.82514839e-06, 2.23374935e-06,\n",
       "       2.73382492e-06, 3.34585378e-06, 4.09489921e-06, 5.01163548e-06,\n",
       "       6.13360401e-06, 7.50675071e-06, 9.18730750e-06, 1.12440951e-05,\n",
       "       1.37613414e-05, 1.68421305e-05, 2.06126243e-05, 2.52272289e-05,\n",
       "       3.08749175e-05, 3.77869697e-05, 4.62464418e-05, 5.65997592e-05,\n",
       "       6.92709019e-05, 8.47787680e-05, 1.03758422e-04, 1.26987104e-04,\n",
       "       1.55416054e-04, 1.90209471e-04, 2.32792185e-04, 2.84908007e-04,\n",
       "       3.48691141e-04, 4.26753580e-04, 5.22292070e-04, 6.39219023e-04,\n",
       "       7.82322732e-04, 9.57463460e-04, 1.17181342e-03, 1.43415049e-03,\n",
       "       1.75521768e-03, 2.14816306e-03, 2.62907820e-03, 3.21765712e-03,\n",
       "       3.93800281e-03, 4.81961426e-03, 5.89859447e-03, 7.21912894e-03,\n",
       "       8.83529506e-03, 1.08132767e-02, 1.32340745e-02, 1.61968229e-02,\n",
       "       1.98228499e-02, 2.42606455e-02, 2.96919425e-02, 3.63391588e-02,\n",
       "       4.44745056e-02, 5.44311347e-02, 6.66167816e-02, 8.15304625e-02,\n",
       "       9.97829100e-02, 1.22121583e-01, 1.49461275e-01, 1.82921579e-01])"
      ]
     },
     "execution_count": 38,
     "metadata": {},
     "output_type": "execute_result"
    }
   ],
   "source": [
    "softmax(x)"
   ]
  },
  {
   "cell_type": "code",
   "execution_count": 40,
   "metadata": {},
   "outputs": [
    {
     "data": {
      "text/plain": [
       "0.18292157916733134"
      ]
     },
     "execution_count": 40,
     "metadata": {},
     "output_type": "execute_result"
    }
   ],
   "source": [
    "np.max(softmax(x))"
   ]
  },
  {
   "cell_type": "code",
   "execution_count": 46,
   "metadata": {},
   "outputs": [
    {
     "data": {
      "text/plain": [
       "99"
      ]
     },
     "execution_count": 46,
     "metadata": {},
     "output_type": "execute_result"
    }
   ],
   "source": [
    "#Index number of Max value\n",
    "np.argmax(softmax(x))"
   ]
  },
  {
   "cell_type": "code",
   "execution_count": 48,
   "metadata": {},
   "outputs": [
    {
     "data": {
      "text/plain": [
       "<tf.Tensor: shape=(), dtype=float64, numpy=10.0>"
      ]
     },
     "execution_count": 48,
     "metadata": {},
     "output_type": "execute_result"
    }
   ],
   "source": [
    "x[99]"
   ]
  },
  {
   "cell_type": "code",
   "execution_count": 45,
   "metadata": {},
   "outputs": [
    {
     "data": {
      "text/plain": [
       "1.0"
      ]
     },
     "execution_count": 45,
     "metadata": {},
     "output_type": "execute_result"
    }
   ],
   "source": [
    "# Sum of distribution\n",
    "np.sum(softmax(x))"
   ]
  },
  {
   "cell_type": "code",
   "execution_count": 44,
   "metadata": {},
   "outputs": [
    {
     "data": {
      "text/plain": [
       "array([3.77029476e-10, 4.61436094e-10, 5.64739054e-10, 6.91168729e-10,\n",
       "       8.45902561e-10, 1.03527708e-09, 1.26704739e-09, 1.55070475e-09,\n",
       "       1.89786526e-09, 2.32274554e-09, 2.84274493e-09, 3.47915801e-09,\n",
       "       4.25804662e-09, 5.21130715e-09, 6.37797672e-09, 7.80583179e-09,\n",
       "       9.55334469e-09, 1.16920781e-08, 1.43096155e-08, 1.75131483e-08,\n",
       "       2.14338646e-08, 2.62323225e-08, 3.21050242e-08, 3.92924637e-08,\n",
       "       4.80889749e-08, 5.88547851e-08, 7.20307667e-08, 8.81564912e-08,\n",
       "       1.07892326e-07, 1.32046476e-07, 1.61608081e-07, 1.97787724e-07,\n",
       "       2.42067002e-07, 2.96259203e-07, 3.62583560e-07, 4.43756133e-07,\n",
       "       5.43101031e-07, 6.64686542e-07, 8.13491735e-07, 9.95610352e-07,\n",
       "       1.21850036e-06, 1.49128937e-06, 1.82514839e-06, 2.23374935e-06,\n",
       "       2.73382492e-06, 3.34585378e-06, 4.09489921e-06, 5.01163548e-06,\n",
       "       6.13360401e-06, 7.50675071e-06, 9.18730750e-06, 1.12440951e-05,\n",
       "       1.37613414e-05, 1.68421305e-05, 2.06126243e-05, 2.52272289e-05,\n",
       "       3.08749175e-05, 3.77869697e-05, 4.62464418e-05, 5.65997592e-05,\n",
       "       6.92709019e-05, 8.47787680e-05, 1.03758422e-04, 1.26987104e-04,\n",
       "       1.55416054e-04, 1.90209471e-04, 2.32792185e-04, 2.84908007e-04,\n",
       "       3.48691141e-04, 4.26753580e-04, 5.22292070e-04, 6.39219023e-04,\n",
       "       7.82322732e-04, 9.57463460e-04, 1.17181342e-03, 1.43415049e-03,\n",
       "       1.75521768e-03, 2.14816306e-03, 2.62907820e-03, 3.21765712e-03,\n",
       "       3.93800281e-03, 4.81961426e-03, 5.89859447e-03, 7.21912894e-03,\n",
       "       8.83529506e-03, 1.08132767e-02, 1.32340745e-02, 1.61968229e-02,\n",
       "       1.98228499e-02, 2.42606455e-02, 2.96919425e-02, 3.63391588e-02,\n",
       "       4.44745056e-02, 5.44311347e-02, 6.66167816e-02, 8.15304625e-02,\n",
       "       9.97829100e-02, 1.22121583e-01, 1.49461275e-01, 1.82921579e-01])"
      ]
     },
     "execution_count": 44,
     "metadata": {},
     "output_type": "execute_result"
    }
   ],
   "source": [
    "tf.nn.softmax(x).numpy()"
   ]
  },
  {
   "cell_type": "code",
   "execution_count": 47,
   "metadata": {},
   "outputs": [
    {
     "data": {
      "text/plain": [
       "0.18292157916733134"
      ]
     },
     "execution_count": 47,
     "metadata": {},
     "output_type": "execute_result"
    }
   ],
   "source": [
    "np.max(tf.nn.softmax(x).numpy())"
   ]
  },
  {
   "cell_type": "markdown",
   "metadata": {},
   "source": [
    "### Derivative of Softmax"
   ]
  },
  {
   "cell_type": "code",
   "execution_count": 56,
   "metadata": {},
   "outputs": [],
   "source": [
    "def derivative_softmax(x):\n",
    "    return 1 / ( 1 + np.exp(-x))"
   ]
  },
  {
   "cell_type": "code",
   "execution_count": 57,
   "metadata": {},
   "outputs": [
    {
     "data": {
      "text/plain": [
       "array([4.53978687e-05, 5.55606489e-05, 6.79983174e-05, 8.32200197e-05,\n",
       "       1.01848815e-04, 1.24647146e-04, 1.52547986e-04, 1.86692945e-04,\n",
       "       2.28478855e-04, 2.79614739e-04, 3.42191434e-04, 4.18766684e-04,\n",
       "       5.12469082e-04, 6.27124987e-04, 7.67413430e-04, 9.39055039e-04,\n",
       "       1.14904229e-03, 1.40591988e-03, 1.72012560e-03, 2.10440443e-03,\n",
       "       2.57431039e-03, 3.14881358e-03, 3.85103236e-03, 4.70911357e-03,\n",
       "       5.75728612e-03, 7.03711536e-03, 8.59898661e-03, 1.05038445e-02,\n",
       "       1.28252101e-02, 1.56514861e-02, 1.90885420e-02, 2.32625358e-02,\n",
       "       2.83228820e-02, 3.44451957e-02, 4.18339400e-02, 5.07243606e-02,\n",
       "       6.13831074e-02, 7.41067363e-02, 8.92170603e-02, 1.07052146e-01,\n",
       "       1.27951705e-01, 1.52235823e-01, 1.80176593e-01, 2.11963334e-01,\n",
       "       2.47663801e-01, 2.87185901e-01, 3.30246430e-01, 3.76354517e-01,\n",
       "       4.24816868e-01, 4.74768924e-01, 5.25231076e-01, 5.75183132e-01,\n",
       "       6.23645483e-01, 6.69753570e-01, 7.12814099e-01, 7.52336199e-01,\n",
       "       7.88036666e-01, 8.19823407e-01, 8.47764177e-01, 8.72048295e-01,\n",
       "       8.92947854e-01, 9.10782940e-01, 9.25893264e-01, 9.38616893e-01,\n",
       "       9.49275639e-01, 9.58166060e-01, 9.65554804e-01, 9.71677118e-01,\n",
       "       9.76737464e-01, 9.80911458e-01, 9.84348514e-01, 9.87174790e-01,\n",
       "       9.89496155e-01, 9.91401013e-01, 9.92962885e-01, 9.94242714e-01,\n",
       "       9.95290886e-01, 9.96148968e-01, 9.96851186e-01, 9.97425690e-01,\n",
       "       9.97895596e-01, 9.98279874e-01, 9.98594080e-01, 9.98850958e-01,\n",
       "       9.99060945e-01, 9.99232587e-01, 9.99372875e-01, 9.99487531e-01,\n",
       "       9.99581233e-01, 9.99657809e-01, 9.99720385e-01, 9.99771521e-01,\n",
       "       9.99813307e-01, 9.99847452e-01, 9.99875353e-01, 9.99898151e-01,\n",
       "       9.99916780e-01, 9.99932002e-01, 9.99944439e-01, 9.99954602e-01])"
      ]
     },
     "execution_count": 57,
     "metadata": {},
     "output_type": "execute_result"
    }
   ],
   "source": [
    "y_der_softmax = derivative_softmax(x)\n",
    "y_der_softmax"
   ]
  },
  {
   "cell_type": "code",
   "execution_count": 58,
   "metadata": {},
   "outputs": [
    {
     "data": {
      "text/plain": [
       "[<matplotlib.lines.Line2D at 0x252d1543808>]"
      ]
     },
     "execution_count": 58,
     "metadata": {},
     "output_type": "execute_result"
    },
    {
     "data": {
      "image/png": "[encoded data removed]",
      "text/plain": [
       "<Figure size 432x288 with 1 Axes>"
      ]
     },
     "metadata": {
      "needs_background": "dark"
     },
     "output_type": "display_data"
    }
   ],
   "source": [
    "plt.plot(x,y_der_softmax)"
   ]
  },
  {
   "cell_type": "markdown",
   "metadata": {},
   "source": [
    "## Comparison Graph"
   ]
  },
  {
   "cell_type": "code",
   "execution_count": 95,
   "metadata": {},
   "outputs": [
    {
     "data": {
      "image/png": "[encoded data removed]",
      "text/plain": [
       "<Figure size 1440x720 with 1 Axes>"
      ]
     },
     "metadata": {
      "needs_background": "dark"
     },
     "output_type": "display_data"
    }
   ],
   "source": [
    "plt.figure(figsize=(20,10))\n",
    "plt.axes().set_facecolor('white')\n",
    "plt.plot(x,y_sigmoid,x,y_tanh,x,y_softmax,x,y_relu,x,y_der_sigmoid,x,y_der_tanh,x,y_der_softmax)\n",
    "plt.legend([\"Sigmoid\",\"TanH\",\"Softmax\",\"ReLu / Derivative ReLu\",\"Derivative Sigmoid\",\"Derivative TanH\",\"Derivative Softmax\"])\n",
    "plt.title(\"Comparison graph\")\n",
    "plt.xlabel(\"Continuous Data\")\n",
    "plt.ylabel(\"Data Range\")\n",
    "plt.grid(False)\n",
    "# minimize the overlap of subplots\n",
    "plt.tight_layout()\n",
    "plt.savefig(\"comparison_graph.png\")\n",
    "plt.show()\n"
   ]
  },
  {
   "cell_type": "code",
   "execution_count": null,
   "metadata": {},
   "outputs": [],
   "source": []
  }
 ],
 "metadata": {
  "kernelspec": {
   "display_name": "Python 3",
   "language": "python",
   "name": "python3"
  },
  "language_info": {
   "codemirror_mode": {
    "name": "ipython",
    "version": 3
   },
   "file_extension": ".py",
   "mimetype": "text/x-python",
   "name": "python",
   "nbconvert_exporter": "python",
   "pygments_lexer": "ipython3",
   "version": "3.7.6"
  }
 },
 "nbformat": 4,
 "nbformat_minor": 4
}
